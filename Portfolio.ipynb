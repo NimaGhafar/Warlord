{
  "cells": [
    {
      "cell_type": "markdown",
      "id": "1adedbc2",
      "metadata": {
        "id": "1adedbc2"
      },
      "source": [
        "\n",
        "<div style=\"background-color:white; text-align:center; padding:20px;\">\n",
        "    <h2 style=\"color:black; font-family: Verdana, sans-serif;\"><strong>Warlord</strong></h2>\n",
        "    <p style=\"font-size: 14px; color: black; font-family: Verdana, sans-serif;\">\n",
        "        <table style=\"margin: auto; border-collapse: collapse;\">\n",
        "            <tr>\n",
        "                <th style=\"border: 0;\">Names</th>\n",
        "                <th style=\"border: 0;\">GitHub Username</th>\n",
        "            </tr>\n",
        "            <tr>\n",
        "                <td style=\"border: 0;\">Vince Ammerlaan</td>\n",
        "                <td style=\"border: 0;\">Vince16270</td>\n",
        "            </tr>\n",
        "            <tr>\n",
        "                <td style=\"border: 0;\">Tommi Lander</td>\n",
        "                <td style=\"border: 0;\">tommi7</td>\n",
        "            </tr>\n",
        "            <tr>\n",
        "                <td style=\"border: 0;\">Nima Ghafar</td>\n",
        "                <td style=\"border: 0;\">NimaGhafar</td>\n",
        "            </tr>\n",
        "            <tr>\n",
        "                <td style=\"border: 0;\">Isa Dijkstra</td>\n",
        "                <td style=\"border: 0;\">IsaD01</td>\n",
        "            </tr>\n",
        "        </table>\n",
        "    </p>\n",
        "</div>\n",
        "\n",
        "<div style=\"display: flex; justify-content: center; align-items: center; margin-top: 10px;\">\n",
        "    <img src=\"photo/image1.png\" alt=\" photo needs to be added\" style=\"width: 1000px; height: auto;\">\n",
        "</div>\n"
      ]
    },
    {
      "cell_type": "markdown",
      "id": "fa730d0d",
      "metadata": {
        "id": "fa730d0d"
      },
      "source": [
        "- Docent: Vikram Radhakrishnan\n",
        "- Datum: 20-06-2025"
      ]
    },
    {
      "cell_type": "markdown",
      "id": "339e751d",
      "metadata": {
        "id": "339e751d"
      },
      "source": [
        "---\n",
        "<div style=\"background-color:white; text-align:center; vertical-align:middle; padding:50px 0; margin-top:5px; margin-bottom:5px\">\n",
        "    <h2 id=\"eda-title\" style=\"color:black; font-family: Verdana, sans-serif; font-size: 25px;\"><strong> Inhoudsopgave </strong></h2>\n",
        "</div>\n",
        "<ul style=\"padding: 0; list-style: none;\">\n",
        "    <li style=\"text-align: center;\"><a href=\"#1.0\">Chapter 1: Het project</a></li>\n",
        "    <li style=\"text-align: center;\"><a href=\"#2.0\">Chapter 2: Packages en functies inladen</a></li>\n",
        "    <li style=\"text-align: center;\"><a href=\"#3.0\">Chapter 3: Trainen van de agents</a></li>\n",
        "    <li style=\"text-align: center;\"><a href=\"#4.0\">Chapter 4: Resultaten van het trainen</a></li>\n",
        "    <li style=\"text-align: center;\"><a href=\"#5.0\">Chapter 5: Conclusie</a></li>\n",
        "    <li style=\"text-align: center;\"><a href=\"#5.0\">Chapter 6: Bronnenlijst</a></li>\n",
        "</ul>"
      ]
    },
    {
      "cell_type": "markdown",
      "id": "9ffa7f30",
      "metadata": {
        "id": "9ffa7f30"
      },
      "source": [
        "---\n",
        "<div style=\"background-color:white; text-align:center; vertical-align:middle; padding:50px 0; margin-top:5px; margin-bottom:5px\">\n",
        "    <h2 id=\"eda-title\" style=\"color:black; font-family: Verdana, sans-serif; font-size: 25px;\"><strong> Chapter 1: Het project </strong></h2>\n",
        "\n",
        "</ul>"
      ]
    },
    {
      "cell_type": "markdown",
      "id": "25c36653",
      "metadata": {
        "id": "25c36653"
      },
      "source": [
        "In deze opdracht richten we ons op het computerspel Warlords. In dit spel beschermd elke speler een kasteel dat zich in een van de vier hoeken van het scherm bevindt. Vanuit het midden van het scherm komt een bal die wordt teruggekaatst om de kastelen van de tegenstanders te vernietigen. Elke speler heeft een schild waarmee hij de bal kan afweren of richten op vijanden.\n",
        "\n",
        "Ons doel is om meerdere slimme agents te ontwikkelen die elk zelfstandig leren spelen via multi-agent reinforcement learning. Dat betekent dat elke agent leert op basis van zijn eigen ervaringen, maar ook rekening moet houden met het gedrag van andere agents. De omgeving is dynamisch en strategisch: je moet niet alleen goed verdedigen, maar ook slim aanvallen.\n",
        "\n",
        "Warlords is bij uitstek geschikt voor dit soort leerstrategieën, omdat het meerdere spelers bevat die tegelijk handelen en op elkaar reageren. Dat maakt het leerproces complex en interessant: agents moeten niet alleen leren van hun eigen fouten, maar ook anticiperen op anderen.\n",
        "\n",
        "Het spel eindigt op twee manieren:\n",
        "\n",
        "- Je wint door als laatste overgebleven speler in het spel te zijn.\n",
        "- Je verliest als je kasteel volledig vernietigd is door de bal.\n",
        "\n",
        "**Wat is het probleem?**\n",
        "\n",
        "We willen een slimme agent ontwikkelen die zelfstandig leert om het spel Warlords goed te spelen. Deze agent moet:\n",
        "\n",
        "- Leren hoe de bal beweegt en hoe hij daarop moet reageren\n",
        "- Ontwikkelen hoe je effectief verdedigt én aanvalt\n",
        "- Tactisch aanvallen uitvoeren om de vijandelijke kastelen te verzwakken\n",
        "- Opletten op meerdere tegenstanders tegelijk en zich aanpassen aan hun gedrag\n",
        "\n",
        "**Wat is het doel?**\n",
        "\n",
        "De agent moet:\n",
        "\n",
        "- Zelf leren van hun ervaringen en hun gedrag continu aanpassen\n",
        "- Beter presteren dan agents die willekeurig bewegen of vaste strategieën gebruiken\n",
        "- Verschillende strategieën ontwikkelen afhankelijk van tegenstanders\n",
        "- Leren overleven in een complexe omgeving en uiteindelijk winnen\n"
      ]
    },
    {
      "cell_type": "markdown",
      "id": "ed7b48b3",
      "metadata": {
        "id": "ed7b48b3"
      },
      "source": [
        "---\n",
        "<div style=\"background-color:white; text-align:center; vertical-align:middle; padding:50px 0; margin-top:5px; margin-bottom:5px\">\n",
        "    <h2 id=\"eda-title\" style=\"color:black; font-family: Verdana, sans-serif; font-size: 25px;\"><strong> Chapter 2: Packages en functies inladen </strong></h2>\n",
        "\n",
        "</ul>"
      ]
    },
    {
      "cell_type": "code",
      "execution_count": 1,
      "id": "4583bc96",
      "metadata": {
        "colab": {
          "base_uri": "https://localhost:8080/"
        },
        "id": "4583bc96",
        "outputId": "07d5f773-3f63-429d-af8c-097c138e9a16"
      },
      "outputs": [
        {
          "output_type": "stream",
          "name": "stdout",
          "text": [
            "Drive already mounted at /content/drive; to attempt to forcibly remount, call drive.mount(\"/content/drive\", force_remount=True).\n"
          ]
        }
      ],
      "source": [
        "from google.colab import drive\n",
        "drive.mount('/content/drive')"
      ]
    },
    {
      "cell_type": "code",
      "execution_count": 2,
      "id": "f6dc9c40",
      "metadata": {
        "colab": {
          "base_uri": "https://localhost:8080/"
        },
        "id": "f6dc9c40",
        "outputId": "4ef24bd1-1e88-4632-a302-cae398bb1d15"
      },
      "outputs": [
        {
          "output_type": "stream",
          "name": "stdout",
          "text": [
            "Requirement already satisfied: pettingzoo[atari] in /usr/local/lib/python3.11/dist-packages (1.25.0)\n",
            "Requirement already satisfied: numpy>=1.21.0 in /usr/local/lib/python3.11/dist-packages (from pettingzoo[atari]) (2.0.2)\n",
            "Requirement already satisfied: gymnasium>=1.0.0 in /usr/local/lib/python3.11/dist-packages (from pettingzoo[atari]) (1.1.1)\n",
            "Requirement already satisfied: multi_agent_ale_py>=0.1.11 in /usr/local/lib/python3.11/dist-packages (from pettingzoo[atari]) (0.1.11)\n",
            "Requirement already satisfied: pygame>=2.3.0 in /usr/local/lib/python3.11/dist-packages (from pettingzoo[atari]) (2.6.1)\n",
            "Requirement already satisfied: cloudpickle>=1.2.0 in /usr/local/lib/python3.11/dist-packages (from gymnasium>=1.0.0->pettingzoo[atari]) (3.1.1)\n",
            "Requirement already satisfied: typing-extensions>=4.3.0 in /usr/local/lib/python3.11/dist-packages (from gymnasium>=1.0.0->pettingzoo[atari]) (4.14.0)\n",
            "Requirement already satisfied: farama-notifications>=0.0.1 in /usr/local/lib/python3.11/dist-packages (from gymnasium>=1.0.0->pettingzoo[atari]) (0.0.4)\n",
            "Requirement already satisfied: autorom[accept-rom-license] in /usr/local/lib/python3.11/dist-packages (0.6.1)\n",
            "Requirement already satisfied: click in /usr/local/lib/python3.11/dist-packages (from autorom[accept-rom-license]) (8.2.1)\n",
            "Requirement already satisfied: requests in /usr/local/lib/python3.11/dist-packages (from autorom[accept-rom-license]) (2.32.3)\n",
            "Requirement already satisfied: AutoROM.accept-rom-license in /usr/local/lib/python3.11/dist-packages (from autorom[accept-rom-license]) (0.6.1)\n",
            "Requirement already satisfied: charset-normalizer<4,>=2 in /usr/local/lib/python3.11/dist-packages (from requests->autorom[accept-rom-license]) (3.4.2)\n",
            "Requirement already satisfied: idna<4,>=2.5 in /usr/local/lib/python3.11/dist-packages (from requests->autorom[accept-rom-license]) (3.10)\n",
            "Requirement already satisfied: urllib3<3,>=1.21.1 in /usr/local/lib/python3.11/dist-packages (from requests->autorom[accept-rom-license]) (2.4.0)\n",
            "Requirement already satisfied: certifi>=2017.4.17 in /usr/local/lib/python3.11/dist-packages (from requests->autorom[accept-rom-license]) (2025.6.15)\n",
            "Looking in links: dist/\n",
            "Requirement already satisfied: AutoROM[accept-rom-license] in /usr/local/lib/python3.11/dist-packages (0.6.1)\n",
            "Requirement already satisfied: click in /usr/local/lib/python3.11/dist-packages (from AutoROM[accept-rom-license]) (8.2.1)\n",
            "Requirement already satisfied: requests in /usr/local/lib/python3.11/dist-packages (from AutoROM[accept-rom-license]) (2.32.3)\n",
            "Requirement already satisfied: AutoROM.accept-rom-license in /usr/local/lib/python3.11/dist-packages (from AutoROM[accept-rom-license]) (0.6.1)\n",
            "Requirement already satisfied: charset-normalizer<4,>=2 in /usr/local/lib/python3.11/dist-packages (from requests->AutoROM[accept-rom-license]) (3.4.2)\n",
            "Requirement already satisfied: idna<4,>=2.5 in /usr/local/lib/python3.11/dist-packages (from requests->AutoROM[accept-rom-license]) (3.10)\n",
            "Requirement already satisfied: urllib3<3,>=1.21.1 in /usr/local/lib/python3.11/dist-packages (from requests->AutoROM[accept-rom-license]) (2.4.0)\n",
            "Requirement already satisfied: certifi>=2017.4.17 in /usr/local/lib/python3.11/dist-packages (from requests->AutoROM[accept-rom-license]) (2025.6.15)\n"
          ]
        }
      ],
      "source": [
        "# Install the necessary libraries\n",
        "!pip install pettingzoo[atari]\n",
        "!pip install \"autorom[accept-rom-license]\"\n",
        "!pip install --find-links dist/ --no-cache-dir AutoROM[accept-rom-license]\n"
      ]
    },
    {
      "cell_type": "code",
      "source": [
        "# Start AutoROM\n",
        "\n",
        "!AutoROM\n",
        "\n",
        "# Import libraries\n",
        "from pettingzoo.atari import warlords_v3\n",
        "from pettingzoo.utils import BaseParallelWrapper\n",
        "import gymnasium as gym\n",
        "import numpy as np\n",
        "from collections import defaultdict, Counter\n",
        "import importlib\n",
        "import os\n",
        "import imageio"
      ],
      "metadata": {
        "colab": {
          "base_uri": "https://localhost:8080/"
        },
        "id": "0hY7YjUvw3mx",
        "outputId": "8f71e55f-c5d8-45b8-835b-267068ba801e"
      },
      "id": "0hY7YjUvw3mx",
      "execution_count": 3,
      "outputs": [
        {
          "output_type": "stream",
          "name": "stdout",
          "text": [
            "AutoROM will download the Atari 2600 ROMs.\n",
            "They will be installed to:\n",
            "\t/usr/local/lib/python3.11/dist-packages/AutoROM/roms\n",
            "\t/usr/local/lib/python3.11/dist-packages/multi_agent_ale_py/roms\n",
            "\n",
            "Existing ROMs will be overwritten.\n",
            "\n",
            "I own a license to these Atari 2600 ROMs.\n",
            "I agree to not distribute these ROMs and wish to proceed: [Y/n]: Y\n"
          ]
        }
      ]
    },
    {
      "cell_type": "markdown",
      "id": "1a38d3f8",
      "metadata": {
        "id": "1a38d3f8"
      },
      "source": [
        "---\n",
        "<div style=\"background-color:white; text-align:center; vertical-align:middle; padding:50px 0; margin-top:5px; margin-bottom:5px\">\n",
        "    <h2 id=\"eda-title\" style=\"color:black; font-family: Verdana, sans-serif; font-size: 25px;\"><strong> Chapter 3: Trainen van de agents </strong></h2>\n",
        "\n",
        "</ul>"
      ]
    },
    {
      "cell_type": "markdown",
      "id": "ec9ca7b1-afbc-4ba0-a032-c2000b9e7371",
      "metadata": {
        "id": "ec9ca7b1-afbc-4ba0-a032-c2000b9e7371"
      },
      "source": [
        "**PPO Agent: Proximal Policy Optimization**\n",
        "\n",
        "Wij hebben ervoor gekozen om een PPO-agent te trainen. PPO staat voor Proximal Policy Optimization en is een state-of-the-art algoritme dat agents in staat stelt om zelfstandig te leren door middel van trial-and-error in een omgeving.\n",
        "\n",
        "De drie belangrijkste voordelen van PPO zijn:\n",
        "\n",
        "- Eenvoud\n",
        "- Stabiliteit\n",
        "- Steekproefefficiëntie\n",
        "\n",
        "\n",
        "Het PPO-algoritme werkt volgens de volgende principes:\n",
        "\n",
        "- *Policy Gradient Methods*:\n",
        "PPO leert direct welk gedrag (actie) optimaal is in een bepaalde situatie (state), in plaats van alleen in te schatten hoe goed een situatie op zichzelf is. In onze agent is dit terug te zien in hoe acties worden gekozen: op basis van een kansverdeling die voortkomt uit een getraind neuraal netwerk.\n",
        "- *Objective Function*:\n",
        "Het algoritme probeert het gedrag van de agent zo aan te passen dat deze op de lange termijn zoveel mogelijk beloning ontvangt uit de omgeving. Dit gebeurt aan de hand van een speciaal ontworpen loss functie die gebaseerd is op de verwachte toekomstige beloningen. Onze agent optimaliseert deze functie om het gedrag voortdurend te verbeteren.\n",
        "\n",
        "- *Clipped Surrogate Objective*:\n",
        "PPO voorkomt dat de agent na één leerstap drastisch ander gedrag gaat vertonen. Grote aanpassingen in het gedrag worden ‘geclipt’, waardoor het leerproces stabiel blijft. Dit principe is verwerkt in de manier waarop wij de verhouding tussen oude en nieuwe actiekeuzes beperken tijdens het optimaliseren.\n",
        "\n",
        "- *Multiple Epochs & Mini-Batch Updates*:\n",
        "De agent verzamelt ervaringen (observaties, acties, beloningen) in de omgeving. Deze gegevens worden vervolgens herhaaldelijk gebruikt tijdens het leerproces, opgesplitst in kleine, efficiënte mini-batches.\n",
        "\n",
        "- *Value Function Estimation*:\n",
        "PPO maakt ook gebruik van een waarde-inschatting van situaties (de ‘value function’), wat helpt om het leerproces minder schommelend en efficiënter te maken. In onze agent is dit geïntegreerd in het neurale netwerk dat zowel de actievoorspellingen als de waarde-inschattingen doet. Deze waarde-inschatting maakt het leren sneller en stabieler.\n",
        "\n",
        "- *Parallelization*:\n",
        "Het algoritme is geschikt voor parallel leren (bijvoorbeeld op meerdere CPU’s of GPU’s), wat de trainingssnelheid aanzienlijk verhoogt. Onze agent is zodanig opgezet dat deze op een GPU kan draaien.\n",
        "\n",
        "We maken ook gebruik van geheugen. Onze agent houdt tijdens interactie met de omgeving continu bij welke acties, beloningen en observaties hij tegenkomt. Deze worden tijdelijk opgeslagen in een geheugenstructuur en vervolgens gebruikt tijdens het leerproces\n",
        "\n",
        "(DhanushKumar, 2024)"
      ]
    },
    {
      "cell_type": "code",
      "source": [
        "import sys\n",
        "%cd /content/drive/MyDrive/Warlord/src\n",
        "\n",
        "# Voeg het pad toe van de directory waarin je .py-bestanden staan\n",
        "sys.path.append(os.getcwd())\n",
        "!ls"
      ],
      "metadata": {
        "colab": {
          "base_uri": "https://localhost:8080/"
        },
        "id": "44X5UT-Ow-bz",
        "outputId": "23f74e76-7f30-4e69-a3fa-5cbc893e99f6"
      },
      "id": "44X5UT-Ow-bz",
      "execution_count": 4,
      "outputs": [
        {
          "output_type": "stream",
          "name": "stdout",
          "text": [
            "/content/drive/MyDrive/Warlord/src\n",
            "agents.py  google_collab  ppo_agent.py\ttrain_ppo.py  utils.py\n",
            "env.py\t   __init__.py\t  __pycache__\ttrain.py\n"
          ]
        }
      ]
    },
    {
      "cell_type": "code",
      "source": [
        "env = warlords_v3.env()\n",
        "env.reset()\n",
        "print(env.agent_selection)\n"
      ],
      "metadata": {
        "colab": {
          "base_uri": "https://localhost:8080/"
        },
        "id": "Ik_YP6KJJBYE",
        "outputId": "b5663c15-524a-4f14-9ad1-71293864435a"
      },
      "id": "Ik_YP6KJJBYE",
      "execution_count": 5,
      "outputs": [
        {
          "output_type": "stream",
          "name": "stdout",
          "text": [
            "first_0\n"
          ]
        }
      ]
    },
    {
      "cell_type": "code",
      "source": [
        "!pip install supersuit"
      ],
      "metadata": {
        "colab": {
          "base_uri": "https://localhost:8080/"
        },
        "id": "aaCERGN0Q8wJ",
        "outputId": "8653549f-b052-444d-b813-d53ec5280048"
      },
      "id": "aaCERGN0Q8wJ",
      "execution_count": 6,
      "outputs": [
        {
          "output_type": "stream",
          "name": "stdout",
          "text": [
            "Requirement already satisfied: supersuit in /usr/local/lib/python3.11/dist-packages (3.10.0)\n",
            "Requirement already satisfied: numpy>=1.19.0 in /usr/local/lib/python3.11/dist-packages (from supersuit) (2.0.2)\n",
            "Requirement already satisfied: gymnasium>=1.0.0 in /usr/local/lib/python3.11/dist-packages (from supersuit) (1.1.1)\n",
            "Requirement already satisfied: tinyscaler>=1.2.6 in /usr/local/lib/python3.11/dist-packages (from supersuit) (1.2.8)\n",
            "Requirement already satisfied: cloudpickle>=1.2.0 in /usr/local/lib/python3.11/dist-packages (from gymnasium>=1.0.0->supersuit) (3.1.1)\n",
            "Requirement already satisfied: typing-extensions>=4.3.0 in /usr/local/lib/python3.11/dist-packages (from gymnasium>=1.0.0->supersuit) (4.14.0)\n",
            "Requirement already satisfied: farama-notifications>=0.0.1 in /usr/local/lib/python3.11/dist-packages (from gymnasium>=1.0.0->supersuit) (0.0.4)\n"
          ]
        }
      ]
    },
    {
      "cell_type": "code",
      "source": [
        "sys.path.append('/content/drive/MyDrive/Warlord/src')\n",
        "\n",
        "# Importeer de nieuwe trainingsfunctie en start de training\n",
        "import train_ppo\n",
        "import importlib\n",
        "importlib.reload(train_ppo)\n",
        "\n",
        "# Start de PPO training\n",
        "trained_agents = train_ppo.train_warlords_ppo(total_timesteps=60_000, update_interval=2048)"
      ],
      "metadata": {
        "colab": {
          "base_uri": "https://localhost:8080/"
        },
        "id": "5kqgzOA-Xaqx",
        "outputId": "131b89e8-db9f-4ef0-c101-0bf18c629b5f"
      },
      "id": "5kqgzOA-Xaqx",
      "execution_count": 8,
      "outputs": [
        {
          "output_type": "stream",
          "name": "stdout",
          "text": [
            "Using device: cuda\n",
            "Starting training...\n",
            "Timestep: 695/60000, Episode 1 finished.\n",
            "Timestep: 1525/60000, Episode 2 finished.\n",
            "Timestep: 1882/60000, Episode 3 finished.\n",
            "Timestep: 2542/60000, Episode 4 finished.\n",
            "Timestep: 3798/60000, Episode 5 finished.\n",
            "Timestep: 3911/60000, Episode 6 finished.\n",
            "Timestep: 5073/60000, Episode 7 finished.\n",
            "Timestep: 5183/60000, Episode 8 finished.\n",
            "Timestep: 5733/60000, Episode 9 finished.\n",
            "Timestep: 6496/60000, Episode 10 finished.\n",
            "Timestep: 7035/60000, Episode 11 finished.\n",
            "Timestep: 7588/60000, Episode 12 finished.\n",
            "Timestep: 8261/60000, Episode 13 finished.\n",
            "Timestep: 8830/60000, Episode 14 finished.\n",
            "Timestep: 9001/60000, Episode 15 finished.\n",
            "Timestep: 9122/60000, Episode 16 finished.\n",
            "Timestep: 10312/60000, Episode 17 finished.\n",
            "Timestep: 11124/60000, Episode 18 finished.\n",
            "Timestep: 11937/60000, Episode 19 finished.\n",
            "Timestep: 12451/60000, Episode 20 finished.\n",
            "Timestep: 12985/60000, Episode 21 finished.\n",
            "Timestep: 13139/60000, Episode 22 finished.\n",
            "Timestep: 14058/60000, Episode 23 finished.\n",
            "Timestep: 14184/60000, Episode 24 finished.\n",
            "Timestep: 15109/60000, Episode 25 finished.\n",
            "Timestep: 16220/60000, Episode 26 finished.\n",
            "Timestep: 17329/60000, Episode 27 finished.\n",
            "Timestep: 17553/60000, Episode 28 finished.\n",
            "Timestep: 18344/60000, Episode 29 finished.\n",
            "Timestep: 18506/60000, Episode 30 finished.\n",
            "Timestep: 18679/60000, Episode 31 finished.\n",
            "Timestep: 19276/60000, Episode 32 finished.\n",
            "Timestep: 20339/60000, Episode 33 finished.\n",
            "Timestep: 20451/60000, Episode 34 finished.\n",
            "Timestep: 21356/60000, Episode 35 finished.\n",
            "Timestep: 21914/60000, Episode 36 finished.\n",
            "Timestep: 22527/60000, Episode 37 finished.\n",
            "Timestep: 23620/60000, Episode 38 finished.\n",
            "Timestep: 24082/60000, Episode 39 finished.\n",
            "Timestep: 24230/60000, Episode 40 finished.\n",
            "Timestep: 25128/60000, Episode 41 finished.\n",
            "Timestep: 25635/60000, Episode 42 finished.\n",
            "Timestep: 26039/60000, Episode 43 finished.\n",
            "Timestep: 26552/60000, Episode 44 finished.\n",
            "Timestep: 26696/60000, Episode 45 finished.\n",
            "Timestep: 27297/60000, Episode 46 finished.\n",
            "Timestep: 27770/60000, Episode 47 finished.\n",
            "Timestep: 28691/60000, Episode 48 finished.\n",
            "Timestep: 28802/60000, Episode 49 finished.\n",
            "Timestep: 29326/60000, Episode 50 finished.\n",
            "Timestep: 30090/60000, Episode 51 finished.\n",
            "Timestep: 30533/60000, Episode 52 finished.\n",
            "Timestep: 30643/60000, Episode 53 finished.\n",
            "Timestep: 30932/60000, Episode 54 finished.\n",
            "Timestep: 31638/60000, Episode 55 finished.\n",
            "Timestep: 32332/60000, Episode 56 finished.\n",
            "Timestep: 33597/60000, Episode 57 finished.\n",
            "Timestep: 34229/60000, Episode 58 finished.\n",
            "Timestep: 34503/60000, Episode 59 finished.\n",
            "Timestep: 34783/60000, Episode 60 finished.\n",
            "Timestep: 36000/60000, Episode 61 finished.\n",
            "Timestep: 36769/60000, Episode 62 finished.\n",
            "Timestep: 37916/60000, Episode 63 finished.\n",
            "Timestep: 38925/60000, Episode 64 finished.\n",
            "Timestep: 40015/60000, Episode 65 finished.\n",
            "Timestep: 41136/60000, Episode 66 finished.\n",
            "Timestep: 41791/60000, Episode 67 finished.\n",
            "Timestep: 42674/60000, Episode 68 finished.\n",
            "Timestep: 42961/60000, Episode 69 finished.\n",
            "Timestep: 43476/60000, Episode 70 finished.\n",
            "Timestep: 44365/60000, Episode 71 finished.\n",
            "Timestep: 44874/60000, Episode 72 finished.\n",
            "Timestep: 46075/60000, Episode 73 finished.\n",
            "Timestep: 46987/60000, Episode 74 finished.\n",
            "Timestep: 47537/60000, Episode 75 finished.\n",
            "Timestep: 48195/60000, Episode 76 finished.\n",
            "Timestep: 48755/60000, Episode 77 finished.\n",
            "Timestep: 48866/60000, Episode 78 finished.\n",
            "Timestep: 49993/60000, Episode 79 finished.\n",
            "Timestep: 50765/60000, Episode 80 finished.\n",
            "Timestep: 52009/60000, Episode 81 finished.\n",
            "Timestep: 52288/60000, Episode 82 finished.\n",
            "Timestep: 53334/60000, Episode 83 finished.\n",
            "Timestep: 54084/60000, Episode 84 finished.\n",
            "Timestep: 54886/60000, Episode 85 finished.\n",
            "Timestep: 55814/60000, Episode 86 finished.\n",
            "Timestep: 55941/60000, Episode 87 finished.\n",
            "Timestep: 56600/60000, Episode 88 finished.\n",
            "Timestep: 56994/60000, Episode 89 finished.\n",
            "Timestep: 58166/60000, Episode 90 finished.\n",
            "Timestep: 58904/60000, Episode 91 finished.\n",
            "Timestep: 59881/60000, Episode 92 finished.\n",
            "Training voltooid!\n"
          ]
        }
      ]
    },
    {
      "cell_type": "code",
      "source": [
        "#oplsaan in \"trained_models\"\n",
        "import torch\n",
        "\n",
        "save_dir = '/content/drive/MyDrive/Warlord/trained_models'.\n",
        "    model_path = os.path.join(save_dir, f'{agent_id}_ppo_policy.pth')\n",
        "    if hasattr(agent, 'policy') and isinstance(agent.policy, torch.nn.Module):\n",
        "        torch.save(agent.policy.state_dict(), model_path)\n",
        "        print(f\"Saved {agent_id}'s policy to {model_path}\")"
      ],
      "metadata": {
        "colab": {
          "base_uri": "https://localhost:8080/"
        },
        "id": "8wi1OFHBkwl3",
        "outputId": "420448a0-51c0-40e8-e642-3417a52235c2"
      },
      "id": "8wi1OFHBkwl3",
      "execution_count": 15,
      "outputs": [
        {
          "output_type": "stream",
          "name": "stdout",
          "text": [
            "Saved first_0's policy to /content/drive/MyDrive/Warlord/trained_models/first_0_ppo_policy.pth\n",
            "Saved second_0's policy to /content/drive/MyDrive/Warlord/trained_models/second_0_ppo_policy.pth\n",
            "Saved third_0's policy to /content/drive/MyDrive/Warlord/trained_models/third_0_ppo_policy.pth\n",
            "Saved fourth_0's policy to /content/drive/MyDrive/Warlord/trained_models/fourth_0_ppo_policy.pth\n"
          ]
        }
      ]
    },
    {
      "cell_type": "markdown",
      "source": [
        "## **Chapter 3.1: Agent tegen Baseline**"
      ],
      "metadata": {
        "id": "8oerMZhPoWhl"
      },
      "id": "8oerMZhPoWhl"
    },
    {
      "cell_type": "code",
      "source": [
        "%cd /content/drive/MyDrive/Warlord/src\n",
        "\n",
        "# Voeg het pad toe van de directory waarin je .py-bestanden staan\n",
        "sys.path.append(os.getcwd())\n",
        "!ls"
      ],
      "metadata": {
        "colab": {
          "base_uri": "https://localhost:8080/"
        },
        "id": "iQLXXEv2ojN6",
        "outputId": "940922a5-736a-4f8a-d5a6-fc6ede714b78"
      },
      "id": "iQLXXEv2ojN6",
      "execution_count": 16,
      "outputs": [
        {
          "output_type": "stream",
          "name": "stdout",
          "text": [
            "/content/drive/MyDrive/Warlord/src\n",
            "env.py\t       __init__.py   __pycache__      train_ppo.py\n",
            "google_collab  ppo_agent.py  random_agent.py  utils.py\n"
          ]
        }
      ]
    },
    {
      "cell_type": "markdown",
      "id": "861bd15b",
      "metadata": {
        "id": "861bd15b"
      },
      "source": [
        "---\n",
        "<div style=\"background-color:white; text-align:center; vertical-align:middle; padding:50px 0; margin-top:5px; margin-bottom:5px\">\n",
        "    <h2 id=\"eda-title\" style=\"color:black; font-family: Verdana, sans-serif; font-size: 25px;\"><strong> Chapter 4: Resultaten van het trainen </strong></h2>\n",
        "\n",
        "</ul>"
      ]
    },
    {
      "cell_type": "markdown",
      "id": "49fb04e4",
      "metadata": {
        "id": "49fb04e4"
      },
      "source": []
    },
    {
      "cell_type": "code",
      "execution_count": null,
      "id": "74e814f3",
      "metadata": {
        "id": "74e814f3"
      },
      "outputs": [],
      "source": [
        "# --- Laad logs ------------------------------------------\n",
        "log = pd.read_csv(log_dir / \"rewards.csv\")\n",
        "log[\"smooth\"] = log.reward.rolling(50).mean()\n",
        "\n",
        "# --- Plot ------------------------------------------------\n",
        "fig, ax = plt.subplots(figsize=(8,4))\n",
        "ax.plot(log.episode, log.reward, alpha=.3, label=\"Episode reward\")\n",
        "ax.plot(log.episode, log.smooth, lw=2, label=\"Rolling mean (50)\")\n",
        "ax.set_xlabel(\"Episode\"); ax.set_ylabel(\"Reward\")\n",
        "ax.set_title(\"PPO on Warlords – training curve\")\n",
        "ax.legend(); plt.show()"
      ]
    },
    {
      "cell_type": "code",
      "execution_count": null,
      "id": "6b5a320b",
      "metadata": {
        "id": "6b5a320b"
      },
      "outputs": [],
      "source": [
        "# --- Histogram eindscore --------------------------------\n",
        "log.reward.plot.hist(bins=30)\n",
        "plt.title(\"Verdeling episode-reward\")\n",
        "plt.xlabel(\"Reward\"); plt.show()"
      ]
    },
    {
      "cell_type": "code",
      "execution_count": null,
      "id": "5f3083af",
      "metadata": {
        "id": "5f3083af"
      },
      "outputs": [],
      "source": [
        "from moviepy.editor import ImageSequenceClip\n",
        "\n",
        "env = make_env(cfg[\"seed\"])\n",
        "agent.load(model_path)          # geladen op correct device\n",
        "\n",
        "frames = []\n",
        "obs = env.reset()\n",
        "done = False\n",
        "while not done:\n",
        "    act = agent.select_action(obs)\n",
        "    obs, _, done, _ = env.step(act)\n",
        "    frame = env.render(mode=\"rgb_array\")\n",
        "    frames.append(frame)\n",
        "\n",
        "gif_path = log_dir / \"ppo_warlords.gif\"\n",
        "ImageSequenceClip(frames, fps=15).write_gif(gif_path)\n",
        "print(\"GIF opgeslagen:\", gif_path)"
      ]
    },
    {
      "cell_type": "markdown",
      "id": "658c84e2-ce0d-4520-abfa-a870f4ba7b39",
      "metadata": {
        "id": "658c84e2-ce0d-4520-abfa-a870f4ba7b39"
      },
      "source": [
        "---\n",
        "<div style=\"background-color:white; text-align:center; vertical-align:middle; padding:50px 0; margin-top:5px; margin-bottom:5px\">\n",
        "    <h2 id=\"eda-title\" style=\"color:black; font-family: Verdana, sans-serif; font-size: 25px;\"><strong> Chapter 5: Conclusie </strong></h2>\n",
        "</div>"
      ]
    },
    {
      "cell_type": "markdown",
      "id": "6c51ec19-6267-4d7e-acbc-0238e32e0178",
      "metadata": {
        "id": "6c51ec19-6267-4d7e-acbc-0238e32e0178"
      },
      "source": [
        "Het is helaas niet gelukt om de agents te kunnen trainen waardoor we nu geen conclusie kunnen schrijven."
      ]
    },
    {
      "cell_type": "markdown",
      "id": "7b3d1c40-b682-4ec3-a627-5339357d2e7a",
      "metadata": {
        "id": "7b3d1c40-b682-4ec3-a627-5339357d2e7a"
      },
      "source": [
        "---\n",
        "<div style=\"background-color:white; text-align:center; vertical-align:middle; padding:50px 0; margin-top:5px; margin-bottom:5px\">\n",
        "    <h2 id=\"eda-title\" style=\"color:black; font-family: Verdana, sans-serif; font-size: 25px;\"><strong> Chapter 6: Bronnenlijst </strong></h2>\n",
        "</div>"
      ]
    },
    {
      "cell_type": "markdown",
      "id": "9c21278e-800c-4786-b881-852e305472cd",
      "metadata": {
        "id": "9c21278e-800c-4786-b881-852e305472cd"
      },
      "source": [
        "- DhanushKumar. (2024, 12 mei). PPO Algorithm - DhanushKumar - Medium. Medium. https://medium.com/@danushidk507/ppo-algorithm-3b33195de14a\n",
        "\n",
        "Mogelijke bronnen:\n",
        "\n",
        "- https://arxiv.org/pdf/1707.06347\n",
        "- https://lilianweng.github.io/posts/2018-04-08-policy-gradient/\n",
        "- https://spinningup.openai.com/en/latest/algorithms/ppo.html\n",
        "\n"
      ]
    },
    {
      "cell_type": "code",
      "source": [],
      "metadata": {
        "id": "esdfFzlNMBaU"
      },
      "id": "esdfFzlNMBaU",
      "execution_count": null,
      "outputs": []
    }
  ],
  "metadata": {
    "kernelspec": {
      "display_name": "Python 3",
      "name": "python3"
    },
    "language_info": {
      "codemirror_mode": {
        "name": "ipython",
        "version": 3
      },
      "file_extension": ".py",
      "mimetype": "text/x-python",
      "name": "python",
      "nbconvert_exporter": "python",
      "pygments_lexer": "ipython3",
      "version": "3.12.4"
    },
    "colab": {
      "provenance": [],
      "gpuType": "T4"
    },
    "accelerator": "GPU"
  },
  "nbformat": 4,
  "nbformat_minor": 5
}
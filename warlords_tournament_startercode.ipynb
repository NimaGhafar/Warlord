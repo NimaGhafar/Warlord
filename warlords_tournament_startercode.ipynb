{
  "cells": [
    {
      "cell_type": "markdown",
      "metadata": {
        "id": "eyMZ4Uon6njM"
      },
      "source": [
        "# Warlords Multi-Agent Toernooi\n",
        "Dit notebook draait de Warlords-omgeving vanuit de Arcade Learning Environment (ALE) met 4 custom agenten.\n",
        "\n",
        "Dit notebook is ontworpen om te draaien in Google Colab. Als je hem lokaal draait, moet je mogelijk meer libraries installeren en controleren of hun versies compatibel zijn."
      ]
    },
    {
      "cell_type": "markdown",
      "source": [
        "## 1 Installeer libraries"
      ],
      "metadata": {
        "id": "bQm4zaHRqpJk"
      }
    },
    {
      "cell_type": "markdown",
      "source": [
        "Voer eerst de onderstaande codecell uit om de libraries te installeren."
      ],
      "metadata": {
        "id": "iLaQHWS8qseZ"
      }
    },
    {
      "cell_type": "code",
      "execution_count": null,
      "metadata": {
        "id": "_kQOeOVD6njO"
      },
      "outputs": [],
      "source": [
        "# Install the necessary libraries\n",
        "!pip install pettingzoo[atari]\n",
        "!pip install \"autorom[accept-rom-license]\"\n",
        "!pip install --find-links dist/ --no-cache-dir AutoROM[accept-rom-license]"
      ]
    },
    {
      "cell_type": "markdown",
      "source": [
        "**Herstart nu je kernel**. Na het herstarten kun je direct doorgaan met de volgende codecel."
      ],
      "metadata": {
        "id": "wLGYSIpiqFfR"
      }
    },
    {
      "cell_type": "markdown",
      "source": [
        "## 2 Importeer libraries en download Atari ROMs"
      ],
      "metadata": {
        "id": "pkDufSMZqwvr"
      }
    },
    {
      "cell_type": "markdown",
      "source": [
        "Je krijgt een prompt om de AutoROM-overeenkomst te accepteren. Druk op \"Y\" wanneer je dit ziet."
      ],
      "metadata": {
        "id": "r5KPzjpMrEah"
      }
    },
    {
      "cell_type": "code",
      "execution_count": null,
      "metadata": {
        "id": "Vmnyd7Py6njP"
      },
      "outputs": [],
      "source": [
        "# Start AutoROM\n",
        "\n",
        "!AutoROM\n",
        "\n",
        "# Import libraries\n",
        "from pettingzoo.atari import warlords_v3\n",
        "from pettingzoo.utils import BaseParallelWrapper\n",
        "import gymnasium as gym\n",
        "import numpy as np\n",
        "from collections import defaultdict, Counter\n",
        "import importlib\n",
        "import os\n",
        "import imageio"
      ]
    },
    {
      "cell_type": "markdown",
      "source": [
        "## 3 Initialiseer agenten"
      ],
      "metadata": {
        "id": "dDLKenpdrJ71"
      }
    },
    {
      "cell_type": "markdown",
      "source": [
        "In deze codecel importeren we de AI-agenten om Warlords te spelen. De bestanden met de agentklassen moeten zich in dezelfde map bevinden als dit notebook."
      ],
      "metadata": {
        "id": "O2Y6V3P-rSvd"
      }
    },
    {
      "cell_type": "code",
      "source": [
        "# Import the agent classes\n",
        "from agent1 import Agent1\n",
        "from agent2 import Agent2\n",
        "from agent3 import Agent3\n",
        "from agent4 import Agent4\n",
        "\n",
        "# Instantiate each agent (pass args if needed)\n",
        "agent_instances = [\n",
        "    Agent1(),\n",
        "    Agent2(),\n",
        "    Agent3(),\n",
        "    Agent4()\n",
        "]\n",
        "\n",
        "agent_names = ['Agent1', 'Agent2', 'Agent3', 'Agent4']\n",
        "scores = defaultdict(int)\n",
        "wins = Counter()"
      ],
      "metadata": {
        "id": "BMSuElvIrRx6"
      },
      "execution_count": null,
      "outputs": []
    },
    {
      "cell_type": "markdown",
      "source": [
        "## 4 Speel het spel"
      ],
      "metadata": {
        "id": "KD8o2sL5rhVC"
      }
    },
    {
      "cell_type": "markdown",
      "source": [
        "In deze sectie spelen de vier agenten Warlords. Aan het einde van elk spel wordt de score bijgehouden. De winnaar is de agent met de hoogste score."
      ],
      "metadata": {
        "id": "mkyFvSDArk3a"
      }
    },
    {
      "cell_type": "code",
      "source": [
        "# Create environment\n",
        "env = warlords_v3.env(render_mode=\"rgb_array\")\n",
        "\n",
        "# Prepare directory for videos\n",
        "video_dir = \"./warlords_videos\"\n",
        "os.makedirs(video_dir, exist_ok=True)"
      ],
      "metadata": {
        "id": "B7NsyrQ_vsD9"
      },
      "execution_count": null,
      "outputs": []
    },
    {
      "cell_type": "markdown",
      "source": [
        "De volgende codecel speelt het spel."
      ],
      "metadata": {
        "id": "LTYOrQwFvtsQ"
      }
    },
    {
      "cell_type": "code",
      "execution_count": null,
      "metadata": {
        "id": "ZTgwRJgw6njR"
      },
      "outputs": [],
      "source": [
        "# Function to run one game and record video\n",
        "def run_game(game_id):\n",
        "    env.reset()\n",
        "\n",
        "    # Map environment agents to their corresponding agent instances\n",
        "    agent_mapping = {\n",
        "        env.agents[i]: agent_instances[i]\n",
        "        for i in range(len(env.agents))\n",
        "    }\n",
        "\n",
        "    # Map environment agents to their corresponding agent names\n",
        "    agent_name_mapping = {\n",
        "        env.agents[i]: agent_names[i]\n",
        "        for i in range(len(env.agents))\n",
        "    }\n",
        "\n",
        "    # Reset scores\n",
        "    for agent in agent_names:\n",
        "        scores[agent] = 0\n",
        "\n",
        "    done = False\n",
        "    terminated = False\n",
        "    truncated = False\n",
        "\n",
        "    frames = []\n",
        "\n",
        "    for agent in env.agent_iter():\n",
        "        observation, reward, termination, truncation, info = env.last()\n",
        "        scores[agent_name_mapping[agent]] += reward\n",
        "\n",
        "        if reward > 0:\n",
        "            print(f\"Agent {agent_name_mapping[agent]} won the game!\")\n",
        "            wins[agent_name_mapping[agent]] += 1\n",
        "\n",
        "        # Use this to debug\n",
        "        # print(f\"Agent: {agent}, Name: {agent_name_mapping[agent]}, Reward: {reward}, Termination: {termination}, Truncation: {truncation}\")\n",
        "\n",
        "        if termination or truncation:\n",
        "            action = None\n",
        "        else:\n",
        "            # this is where you would insert your policy\n",
        "            agent_obj = agent_mapping[agent]\n",
        "            action = agent_obj.act(observation)\n",
        "\n",
        "        env.step(action)\n",
        "\n",
        "        # Capture the rendered frame\n",
        "        frame = env.render()\n",
        "        frames.append(frame)\n",
        "    env.close()\n",
        "\n",
        "    # Save video using imageio\n",
        "    video_path = os.path.join(video_dir, f\"game_{game_id}.mp4\")\n",
        "    imageio.mimsave(video_path, frames, fps=15)"
      ]
    },
    {
      "cell_type": "code",
      "execution_count": null,
      "metadata": {
        "id": "Qc9igyLh6njR"
      },
      "outputs": [],
      "source": [
        "# Run 10 games\n",
        "for game in range(10):\n",
        "    print(f\"Running game {game + 1}...\")\n",
        "    run_game(game_id=game)\n",
        "\n",
        "print(\"\\nFinal Scores:\")\n",
        "for agent in agent_names:\n",
        "    print(f\"{agent}: Total Reward = {scores[agent]}, Wins = {wins[agent]}\")\n",
        "\n",
        "try:\n",
        "    winner = wins.most_common(1)[0]\n",
        "    print(f\"Winner: {winner[0]} with {winner[1]} wins!\")\n",
        "except IndexError:\n",
        "    print(\"No winners found.\")"
      ]
    },
    {
      "cell_type": "code",
      "execution_count": null,
      "metadata": {
        "id": "srB5S-mr6njR"
      },
      "outputs": [],
      "source": [
        "# Display download links for videos\n",
        "import glob\n",
        "from IPython.display import FileLink, display\n",
        "video_files = sorted(glob.glob(f\"{video_dir}/*.mp4\"))\n",
        "print(\"\\nDownload the recorded games:\")\n",
        "for file in video_files:\n",
        "    display(FileLink(file))"
      ]
    }
  ],
  "metadata": {
    "colab": {
      "provenance": []
    },
    "kernelspec": {
      "display_name": "Python 3",
      "language": "python",
      "name": "python3"
    },
    "language_info": {
      "name": "python",
      "version": "3.x"
    }
  },
  "nbformat": 4,
  "nbformat_minor": 0
}